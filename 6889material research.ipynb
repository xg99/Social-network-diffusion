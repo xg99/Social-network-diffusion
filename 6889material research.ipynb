{
 "cells": [
  {
   "cell_type": "markdown",
   "id": "e7f5cd5f",
   "metadata": {},
   "source": [
    "Material research"
   ]
  },
  {
   "cell_type": "markdown",
   "id": "094c4340",
   "metadata": {},
   "source": [
    "##  Network Diffusion Under Homophily and Consolidation as a Mechanism for Social Inequality 2021 \n",
    "Author: Linda Zhao1 and Filiz Garip (abbreviated to ***ZG*** below)"
   ]
  },
  {
   "cell_type": "markdown",
   "id": "54f60dfb",
   "metadata": {},
   "source": [
    "Content: Replicate $Centola(2015)$'s model, and extend DG’s findings."
   ]
  },
  {
   "cell_type": "markdown",
   "id": "34af2af9",
   "metadata": {},
   "source": [
    "#### Results:"
   ]
  },
  {
   "cell_type": "markdown",
   "id": "caa2e492",
   "metadata": {},
   "source": [
    "#### Overall Diffusion Under homophily and consolidation"
   ]
  },
  {
   "cell_type": "markdown",
   "id": "2f5dd018",
   "metadata": {},
   "source": [
    "##### Compare to Centola’s(2015) findings: Relationship between homophily, consolidation and diffusion<br>\n",
    "results:Generally similar\n",
    "\n",
    "Threshold adaptation: **inversely**<br>\n",
    "\n",
    "***Observation*** : <br>\n",
    "(i) homophily and consolidation interact in their effect on diffusion and<br>\n",
    "(ii) diffusion is most successful when neither homophily nor consolidation is\n",
    "very low and at least one is at a moderate level."
   ]
  },
  {
   "cell_type": "markdown",
   "id": "47b5f901",
   "metadata": {},
   "source": [
    "##### Compare to DG(2015) findings: how homophily affects diffusion and intergroup inequality\n",
    "results:Generally similar\n",
    "\n",
    "\n",
    "*DG : fixed consolidation*<br>\n",
    "*ZG : various consolidation*\n",
    "\n",
    "- homophily : 4 levels<br>\n",
    " $\\alpha$ = -1,0,1,2<br>\n",
    "- consolidation: 2 levels<br>\n",
    " $\\beta$ = 0.5,2<br>"
   ]
  },
  {
   "cell_type": "markdown",
   "id": "d9c74b7e",
   "metadata": {},
   "source": [
    "#### Group-specific Diffusion Under Homophily and consolidation"
   ]
  },
  {
   "cell_type": "markdown",
   "id": "e98c9d44",
   "metadata": {},
   "source": [
    "In low-consolidation worlds, homophily helps reduce inequality at\n",
    "equilibrium by supporting diffusion."
   ]
  },
  {
   "cell_type": "markdown",
   "id": "34af2af9",
   "metadata": {},
   "source": [
    "#### Sensitivity Analyses"
   ]
  },
  {
   "cell_type": "markdown",
   "id": "6907e29b",
   "metadata": {},
   "source": [
    "Report the sensitivity of findings to $P$ (the proportion of high-status individuals in the population)"
   ]
  },
  {
   "cell_type": "markdown",
   "id": "2d7d20fd",
   "metadata": {},
   "source": [
    "- $P$ is low : overall diffusion remains low, and the level of inequality remains high regardless of the level of homophily.\n",
    "- $P$ is high : diffusion is high, this results in minimal inequality regardless of the level of homophily or consolidation."
   ]
  },
  {
   "cell_type": "markdown",
   "id": "def9106c",
   "metadata": {},
   "source": []
  }
 ],
 "metadata": {
  "kernelspec": {
   "display_name": "Python 3 (ipykernel)",
   "language": "python",
   "name": "python3"
  },
  "language_info": {
   "codemirror_mode": {
    "name": "ipython",
    "version": 3
   },
   "file_extension": ".py",
   "mimetype": "text/x-python",
   "name": "python",
   "nbconvert_exporter": "python",
   "pygments_lexer": "ipython3",
   "version": "3.8.11"
  }
 },
 "nbformat": 4,
 "nbformat_minor": 5
}
